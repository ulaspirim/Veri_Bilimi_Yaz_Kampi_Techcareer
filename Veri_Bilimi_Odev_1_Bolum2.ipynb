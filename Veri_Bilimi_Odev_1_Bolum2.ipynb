{
 "cells": [
  {
   "cell_type": "code",
   "execution_count": 1,
   "id": "48243def-5a4c-4f98-8b55-47dc59e1835d",
   "metadata": {},
   "outputs": [
    {
     "name": "stdin",
     "output_type": "stream",
     "text": [
      "İlk sayiyi giriniz:  30\n",
      "İkinci sayiyi giriniz:  40\n"
     ]
    },
    {
     "name": "stdout",
     "output_type": "stream",
     "text": [
      "Toplama=  70 Cikarma=  -10 Carpma=  1200 Bolme=  0.75\n",
      "Sayi1'in 2'ye gore modu=  30 Sayi2'nin 1'e gore modu=  10\n"
     ]
    }
   ],
   "source": [
    "sayi1 = int(input(\"İlk sayiyi giriniz: \"))\n",
    "sayi2 = int(input(\"İkinci sayiyi giriniz: \"))\n",
    "print(\"Toplama= \", sayi1+sayi2, \"Cikarma= \", sayi1-sayi2,\"Carpma= \", sayi1*sayi2,\"Bolme= \", sayi1/sayi2)\n",
    "print(\"Sayi1'in 2'ye gore modu= \", sayi1%sayi2, \"Sayi2'nin 1'e gore modu= \", sayi2%sayi1)"
   ]
  },
  {
   "cell_type": "code",
   "execution_count": 7,
   "id": "ea2a00ba-a152-49fb-8bef-162a24d5f196",
   "metadata": {},
   "outputs": [
    {
     "name": "stdout",
     "output_type": "stream",
     "text": [
      "Kaldiniz\n"
     ]
    }
   ],
   "source": [
    "ortalama = ((sayi1+sayi2)/2)\n",
    "if ortalama > 50:\n",
    "    print(\"Gectiniz\")\n",
    "else :\n",
    "    print(\"Kaldiniz\") "
   ]
  },
  {
   "cell_type": "code",
   "execution_count": 9,
   "id": "b22d856e-50ce-425b-9da7-50a77cb6a65e",
   "metadata": {},
   "outputs": [
    {
     "name": "stdin",
     "output_type": "stream",
     "text": [
      "Yasinizi giriniz:  80\n"
     ]
    },
    {
     "name": "stdout",
     "output_type": "stream",
     "text": [
      "Ehliyet alabilirsiniz\n"
     ]
    }
   ],
   "source": [
    "yas = int(input(\"Yasinizi giriniz: \"))\n",
    "if yas > 18:\n",
    "    print(\"Ehliyet alabilirsiniz\")\n",
    "else:\n",
    "    print(\"Ehliyet alamazsiniz\")"
   ]
  },
  {
   "cell_type": "code",
   "execution_count": 10,
   "id": "8fe91933-0a06-4c52-ba18-195f81c2719a",
   "metadata": {},
   "outputs": [
    {
     "name": "stdin",
     "output_type": "stream",
     "text": [
      "Urunun fiyatini giriniz=  80\n",
      "Indirimin yuzdelik oranini giriniz=  20\n"
     ]
    },
    {
     "name": "stdout",
     "output_type": "stream",
     "text": [
      "Indirimli urun fiyati=  64.0\n"
     ]
    }
   ],
   "source": [
    "fiyat = float(input(\"Urunun fiyatini giriniz= \"))\n",
    "indirim = int(input(\"Indirimin yuzdelik oranini giriniz= \"))\n",
    "print (\"Indirimli urun fiyati= \", ((fiyat*(100-indirim))/100))"
   ]
  },
  {
   "cell_type": "code",
   "execution_count": null,
   "id": "a602e5ca-faa5-4005-a37a-649e5019462c",
   "metadata": {},
   "outputs": [],
   "source": [
    "techcareer = True\n",
    "veri_bili= False\n",
    "print(a and b)  # False\n",
    "print(a or b)   # True\n",
    "print(not a)    # False\n"
   ]
  }
 ],
 "metadata": {
  "kernelspec": {
   "display_name": "Python 3 (ipykernel)",
   "language": "python",
   "name": "python3"
  },
  "language_info": {
   "codemirror_mode": {
    "name": "ipython",
    "version": 3
   },
   "file_extension": ".py",
   "mimetype": "text/x-python",
   "name": "python",
   "nbconvert_exporter": "python",
   "pygments_lexer": "ipython3",
   "version": "3.13.5"
  }
 },
 "nbformat": 4,
 "nbformat_minor": 5
}
