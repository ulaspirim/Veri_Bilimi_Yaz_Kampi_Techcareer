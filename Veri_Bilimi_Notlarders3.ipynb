{
 "cells": [
  {
   "cell_type": "code",
   "execution_count": 14,
   "id": "8f718f39-43f0-4d81-8df8-5fe5ea198384",
   "metadata": {},
   "outputs": [
    {
     "name": "stdout",
     "output_type": "stream",
     "text": [
      "Techcareer - Veri Bilimine Giriş Ders 3\n"
     ]
    }
   ],
   "source": [
    "print(\"Techcareer - Veri Bilimine Giriş Ders 3\")"
   ]
  },
  {
   "cell_type": "code",
   "execution_count": 6,
   "id": "4694874e-fa2d-4bed-a693-1bf884a2ab2a",
   "metadata": {},
   "outputs": [],
   "source": [
    "import numpy as np\n",
    "import time\n",
    "\n",
    "def python_version():\n",
    "  start_time = time.time()\n",
    "  A = list(range(10000000))\n",
    "  B = list(range(10000000))\n",
    "  C = [A[i] + B[i] for i in range(len(A))]\n",
    "  end_time = time.time()\n",
    "  sure = end_time - start_time\n",
    "  print(sure)\n",
    "\n",
    "\n",
    "def numpy_version():\n",
    "  start_time = time.time()\n",
    "  A = np.arange(100000000)\n",
    "  B = np.arange(100000000)\n",
    "  C = A + B\n",
    "  end_time = time.time()\n",
    "  sure = end_time - start_time\n",
    "  print(sure)\n"
   ]
  },
  {
   "cell_type": "code",
   "execution_count": 32,
   "id": "fb42332c-3d28-47af-9e37-e7a7970c1247",
   "metadata": {},
   "outputs": [
    {
     "name": "stdout",
     "output_type": "stream",
     "text": [
      "3.1265761852264404\n"
     ]
    }
   ],
   "source": [
    "python_version()  ##Python'da her türlü fonksiyon ve kütüphane çalıştığı için daha yavaş"
   ]
  },
  {
   "cell_type": "code",
   "execution_count": 33,
   "id": "521a5e87-3d41-469d-a6c5-95f458b01bb1",
   "metadata": {},
   "outputs": [
    {
     "name": "stdout",
     "output_type": "stream",
     "text": [
      "1.218519926071167\n"
     ]
    }
   ],
   "source": [
    "numpy_version   ##Numpy sadece sayısal kısımlar için hazırlandığından optimize çalışıyor"
   ]
  },
  {
   "cell_type": "code",
   "execution_count": null,
   "id": "1144f55a-e807-4e44-8a6e-591fd4eced76",
   "metadata": {},
   "outputs": [],
   "source": []
  },
  {
   "cell_type": "code",
   "execution_count": 7,
   "id": "6881bfc3-08c3-4cd5-802f-4fe7ab0dbde8",
   "metadata": {},
   "outputs": [
    {
     "data": {
      "text/plain": [
       "array([1, 2, 3, 4, 5])"
      ]
     },
     "execution_count": 7,
     "metadata": {},
     "output_type": "execute_result"
    }
   ],
   "source": [
    "list01 = [1,2,3,4,5]\n",
    "arr1 = np.array(list01)\n",
    "arr1"
   ]
  },
  {
   "cell_type": "code",
   "execution_count": 8,
   "id": "7a3c0619-ef9d-49d4-a275-c00b5ee74c0d",
   "metadata": {},
   "outputs": [
    {
     "data": {
      "text/plain": [
       "array([ 1,  2,  3,  4,  5,  6,  7,  8,  9, 10, 11, 12, 13, 14, 15, 16, 17,\n",
       "       18, 19, 20, 21, 22, 23, 24])"
      ]
     },
     "execution_count": 8,
     "metadata": {},
     "output_type": "execute_result"
    }
   ],
   "source": [
    "a = np.arange(1,25)\n",
    "a"
   ]
  },
  {
   "cell_type": "code",
   "execution_count": 10,
   "id": "b900ba82-0ad9-41dd-9df2-49eb2e744890",
   "metadata": {},
   "outputs": [
    {
     "data": {
      "text/plain": [
       "array([  0,  25,  50,  75, 100, 125, 150])"
      ]
     },
     "execution_count": 10,
     "metadata": {},
     "output_type": "execute_result"
    }
   ],
   "source": [
    "a = np.arange(0,151,25)\n",
    "a"
   ]
  },
  {
   "cell_type": "code",
   "execution_count": 11,
   "id": "2859c580-7867-48cf-873e-3a3150cf4deb",
   "metadata": {},
   "outputs": [
    {
     "data": {
      "text/plain": [
       "array([0, 0, 0, 0, 0, 0, 0, 0, 0, 0])"
      ]
     },
     "execution_count": 11,
     "metadata": {},
     "output_type": "execute_result"
    }
   ],
   "source": [
    "#Sıfırlardan oluşan bir dizi için\n",
    "zeros = np.zeros(10).astype(int)\n",
    "zeros"
   ]
  },
  {
   "cell_type": "code",
   "execution_count": 12,
   "id": "803beca1-5f51-4c0b-8045-3cbc39ecb6ed",
   "metadata": {},
   "outputs": [
    {
     "data": {
      "text/plain": [
       "array([1, 1, 1, 1, 1, 1, 1, 1])"
      ]
     },
     "execution_count": 12,
     "metadata": {},
     "output_type": "execute_result"
    }
   ],
   "source": [
    "ones = np.ones(8).astype(int)\n",
    "ones"
   ]
  },
  {
   "cell_type": "code",
   "execution_count": 14,
   "id": "d4366934-951b-4e33-ab7f-125a52096a08",
   "metadata": {},
   "outputs": [
    {
     "data": {
      "text/plain": [
       "array([8, 8, 8, 8, 8, 8, 8, 8, 8, 8])"
      ]
     },
     "execution_count": 14,
     "metadata": {},
     "output_type": "execute_result"
    }
   ],
   "source": [
    "#repeat(sayi, tekrar sayisi)\n",
    "sekizler = np.repeat(8, 10)\n",
    "sekizler"
   ]
  },
  {
   "cell_type": "code",
   "execution_count": 15,
   "id": "4a16c196-39f2-40bb-bad0-bb6ad1f4134e",
   "metadata": {},
   "outputs": [
    {
     "data": {
      "text/plain": [
       "array([1, 1, 1, 3, 3, 3, 5, 5, 5, 7, 7, 7, 9, 9, 9])"
      ]
     },
     "execution_count": 15,
     "metadata": {},
     "output_type": "execute_result"
    }
   ],
   "source": [
    "dizi = np.array([1,3,5,7,9])\n",
    "deneme1 = np.repeat(dizi,3)\n",
    "deneme1"
   ]
  },
  {
   "cell_type": "code",
   "execution_count": 18,
   "id": "c902cb55-50f7-4689-aa5d-eea552fd9e53",
   "metadata": {},
   "outputs": [
    {
     "data": {
      "text/plain": [
       "array([ 1,  3,  5,  7,  9, 11, 13, 15, 17, 19])"
      ]
     },
     "execution_count": 18,
     "metadata": {},
     "output_type": "execute_result"
    }
   ],
   "source": [
    "sayidizi = np.arange(1,21)\n",
    "tekler = sayidizi[sayidizi % 2 == 1]\n",
    "tekler"
   ]
  },
  {
   "cell_type": "code",
   "execution_count": 21,
   "id": "484bc9a5-a262-4898-a580-75ef67e54a45",
   "metadata": {},
   "outputs": [
    {
     "data": {
      "text/plain": [
       "array([20, 25, 30])"
      ]
     },
     "execution_count": 21,
     "metadata": {},
     "output_type": "execute_result"
    }
   ],
   "source": [
    "#Linspace(baslangic, bitis, adet) fonksiyonu, başlangıçtan bitişe kadar  adet kadar eşit uzaklıkta böler\n",
    "lns = np.linspace(20,30,3).astype(int)\n",
    "lns"
   ]
  },
  {
   "cell_type": "code",
   "execution_count": 22,
   "id": "e7366ab5-098e-4ec8-9369-b779c7202b4d",
   "metadata": {},
   "outputs": [
    {
     "data": {
      "text/plain": [
       "array([0.41854975, 0.93660613, 0.53384284, 0.3729843 ])"
      ]
     },
     "execution_count": 22,
     "metadata": {},
     "output_type": "execute_result"
    }
   ],
   "source": [
    "np.random.random(4)"
   ]
  },
  {
   "cell_type": "code",
   "execution_count": 25,
   "id": "6f773f07-a2bf-4966-8cf9-3803bed92b1e",
   "metadata": {},
   "outputs": [
    {
     "data": {
      "text/plain": [
       "array([314, 321, 308, 160, 193, 153, 125, 279, 246, 139], dtype=int32)"
      ]
     },
     "execution_count": 25,
     "metadata": {},
     "output_type": "execute_result"
    }
   ],
   "source": [
    "np.random.randint(100,350,10)"
   ]
  },
  {
   "cell_type": "code",
   "execution_count": 26,
   "id": "5abd0679-c7fc-40f2-9ad1-72d545e9f3af",
   "metadata": {},
   "outputs": [
    {
     "data": {
      "text/plain": [
       "array([126, 205, 116, 168, 142, 283, 176, 179, 189, 114], dtype=int32)"
      ]
     },
     "execution_count": 26,
     "metadata": {},
     "output_type": "execute_result"
    }
   ],
   "source": [
    "#Normalde random sayı üretilirken bilgisayarın saati referans alınır.\n",
    "#Biz random.seed(sayi) fonksiyonu ile başlangıç değerine bir sayi atarız. Eğer aynı değer iki defa kullanılırsa aynı sayılar oluşturulur\n",
    "\n",
    "np.random.seed(200)\n",
    "np.random.randint(100,350,10)"
   ]
  },
  {
   "cell_type": "code",
   "execution_count": 29,
   "id": "8d8fba99-10e2-4d41-88e9-77b450cd94e4",
   "metadata": {
    "scrolled": true
   },
   "outputs": [
    {
     "data": {
      "text/plain": [
       "array([126, 205, 116, 168, 142, 283, 176, 179, 189, 114], dtype=int32)"
      ]
     },
     "execution_count": 29,
     "metadata": {},
     "output_type": "execute_result"
    }
   ],
   "source": [
    "np.random.seed(200)\n",
    "np.random.randint(100,350,10)"
   ]
  },
  {
   "cell_type": "code",
   "execution_count": null,
   "id": "79eba72b-fd11-4834-9e86-c6dc0fd95fce",
   "metadata": {},
   "outputs": [],
   "source": []
  },
  {
   "cell_type": "code",
   "execution_count": null,
   "id": "04114a6b-0f04-4e2e-896c-161c74a36858",
   "metadata": {},
   "outputs": [],
   "source": []
  },
  {
   "cell_type": "code",
   "execution_count": 30,
   "id": "eed9ff14-4662-4a38-a2f4-367d0b51153b",
   "metadata": {},
   "outputs": [
    {
     "data": {
      "text/plain": [
       "array([385, 289, 339, 334, 242, 256, 201, 207, 251, 355, 343, 329, 223,\n",
       "       285, 352], dtype=int32)"
      ]
     },
     "execution_count": 30,
     "metadata": {},
     "output_type": "execute_result"
    }
   ],
   "source": [
    "a = np.random.randint(200,400,15)\n",
    "a"
   ]
  },
  {
   "cell_type": "code",
   "execution_count": 31,
   "id": "73fcc4fb-1b72-4237-919f-0feb48719325",
   "metadata": {},
   "outputs": [
    {
     "data": {
      "text/plain": [
       "np.int32(385)"
      ]
     },
     "execution_count": 31,
     "metadata": {},
     "output_type": "execute_result"
    }
   ],
   "source": [
    "a.max()"
   ]
  },
  {
   "cell_type": "code",
   "execution_count": 32,
   "id": "658ba069-ea14-4bfa-938a-cd950da5dc11",
   "metadata": {},
   "outputs": [
    {
     "data": {
      "text/plain": [
       "np.int32(201)"
      ]
     },
     "execution_count": 32,
     "metadata": {},
     "output_type": "execute_result"
    }
   ],
   "source": [
    "a.min()"
   ]
  },
  {
   "cell_type": "code",
   "execution_count": 33,
   "id": "d0799508-7047-411d-838f-3f2ffa31f618",
   "metadata": {},
   "outputs": [
    {
     "data": {
      "text/plain": [
       "np.int64(4391)"
      ]
     },
     "execution_count": 33,
     "metadata": {},
     "output_type": "execute_result"
    }
   ],
   "source": [
    "a.sum()"
   ]
  },
  {
   "cell_type": "code",
   "execution_count": 34,
   "id": "e5dcabe4-fdd8-4157-998e-0a25d3cb7418",
   "metadata": {},
   "outputs": [
    {
     "data": {
      "text/plain": [
       "np.float64(292.73333333333335)"
      ]
     },
     "execution_count": 34,
     "metadata": {},
     "output_type": "execute_result"
    }
   ],
   "source": [
    "a.mean()"
   ]
  },
  {
   "cell_type": "code",
   "execution_count": 35,
   "id": "f1b9e961-936c-470a-bdaf-bfbc92fd8b31",
   "metadata": {},
   "outputs": [
    {
     "data": {
      "text/plain": [
       "np.float64(57.70900180118253)"
      ]
     },
     "execution_count": 35,
     "metadata": {},
     "output_type": "execute_result"
    }
   ],
   "source": [
    "#Standart sapma\n",
    "a.std()"
   ]
  },
  {
   "cell_type": "code",
   "execution_count": null,
   "id": "59c5697b-5a57-4b5f-852b-8b34b23ffcbe",
   "metadata": {},
   "outputs": [],
   "source": []
  },
  {
   "cell_type": "code",
   "execution_count": null,
   "id": "06a14b2e-4ac3-44b9-901f-d0738c4e91dd",
   "metadata": {},
   "outputs": [],
   "source": []
  },
  {
   "cell_type": "code",
   "execution_count": 37,
   "id": "664ee211-d109-49f9-b4b3-3b8b57f750e0",
   "metadata": {},
   "outputs": [
    {
     "data": {
      "text/plain": [
       "array([ 1,  2,  3,  4,  5,  6,  7,  8,  9, 10, 11, 12, 13, 14, 15, 16, 17,\n",
       "       18, 19, 20])"
      ]
     },
     "execution_count": 37,
     "metadata": {},
     "output_type": "execute_result"
    }
   ],
   "source": [
    "d = np.arange(1,21)\n",
    "d"
   ]
  },
  {
   "cell_type": "code",
   "execution_count": 39,
   "id": "ccf7608f-b574-4d1b-961d-a82eae238d34",
   "metadata": {},
   "outputs": [
    {
     "data": {
      "text/plain": [
       "array([ 1,  5,  3,  5,  5,  5,  7,  5,  9,  5, 11,  5, 13,  5, 15,  5, 17,\n",
       "        5, 19,  5])"
      ]
     },
     "execution_count": 39,
     "metadata": {},
     "output_type": "execute_result"
    }
   ],
   "source": [
    "#Dizi içerisinde çift sayılar yerine 5 yazan kod\n",
    "r = np.where(d %2 == 0, 5, d)\n",
    "r"
   ]
  },
  {
   "cell_type": "code",
   "execution_count": 40,
   "id": "1380ae10-9592-4b89-9591-4c6a811193ed",
   "metadata": {},
   "outputs": [
    {
     "data": {
      "text/plain": [
       "array([False, False, False, False, False, False, False, False, False,\n",
       "       False, False, False, False, False, False, False, False, False,\n",
       "       False, False])"
      ]
     },
     "execution_count": 40,
     "metadata": {},
     "output_type": "execute_result"
    }
   ],
   "source": [
    "#Dizide boş var mı?  Eğer dizide [1,2,3, np.nan, 4,5] diye değerler olsaydı [F,F,F, T, F,F] yazacaktı\n",
    "np.isnan(r)"
   ]
  },
  {
   "cell_type": "code",
   "execution_count": null,
   "id": "7f459c2d-aa9b-4bdf-bdca-4c19080f5bad",
   "metadata": {},
   "outputs": [],
   "source": []
  },
  {
   "cell_type": "code",
   "execution_count": null,
   "id": "80ce0a31-35f2-4f19-9974-eb61950ba4c3",
   "metadata": {},
   "outputs": [],
   "source": []
  },
  {
   "cell_type": "code",
   "execution_count": 11,
   "id": "c5f9f001-a78a-4267-836e-21faa0823114",
   "metadata": {},
   "outputs": [
    {
     "data": {
      "text/plain": [
       "array([ 1,  2,  3,  4,  5,  6,  7,  8,  9, 10, 11, 12, 13, 14, 15, 16, 17,\n",
       "       18, 19, 20])"
      ]
     },
     "execution_count": 11,
     "metadata": {},
     "output_type": "execute_result"
    }
   ],
   "source": [
    "sayidizi2 = np.arange(1,21)\n",
    "sayidizi2"
   ]
  },
  {
   "cell_type": "code",
   "execution_count": 12,
   "id": "a79426ad-aab4-4af5-a733-46e9ef41ccae",
   "metadata": {},
   "outputs": [
    {
     "data": {
      "text/plain": [
       "array([10, 11, 12, 13, 14, 15, 16, 17, 18, 19, 20])"
      ]
     },
     "execution_count": 12,
     "metadata": {},
     "output_type": "execute_result"
    }
   ],
   "source": [
    "sayidizi3 = np.arange(10,21)\n",
    "sayidizi3"
   ]
  },
  {
   "cell_type": "code",
   "execution_count": 13,
   "id": "9c4b9aaf-3d33-4a9f-a435-5da4126bbd9e",
   "metadata": {},
   "outputs": [
    {
     "data": {
      "text/plain": [
       "array([1, 2, 3, 4, 5, 6, 7, 8, 9])"
      ]
     },
     "execution_count": 13,
     "metadata": {},
     "output_type": "execute_result"
    }
   ],
   "source": [
    "#İki dizi arasındaki farkları görmek için np.setdiff1d(dizi1, dizi2)\n",
    "np.setdiff1d(sayidizi2,sayidizi3)"
   ]
  },
  {
   "cell_type": "code",
   "execution_count": 14,
   "id": "560c80c3-8914-4823-b398-f1d027801b83",
   "metadata": {},
   "outputs": [
    {
     "data": {
      "text/plain": [
       "array([20, 19, 18, 17, 16, 15, 14, 13, 12, 11, 10])"
      ]
     },
     "execution_count": 14,
     "metadata": {},
     "output_type": "execute_result"
    }
   ],
   "source": [
    "#Verileri ters sıralama\n",
    "sayidizi3[::-1]  \n",
    "\n",
    "#ya da np.flip(sayidizi3)"
   ]
  },
  {
   "cell_type": "code",
   "execution_count": 15,
   "id": "ddcdb51f-9d78-4505-80ef-041a6cdb6495",
   "metadata": {},
   "outputs": [
    {
     "data": {
      "text/plain": [
       "array([[  1,   2,   3,   4,   5,   6,   7,   8,   9,  10],\n",
       "       [ 11,  12,  13,  14,  15,  16,  17,  18,  19,  20],\n",
       "       [ 21,  22,  23,  24,  25,  26,  27,  28,  29,  30],\n",
       "       [ 31,  32,  33,  34,  35,  36,  37,  38,  39,  40],\n",
       "       [ 41,  42,  43,  44,  45,  46,  47,  48,  49,  50],\n",
       "       [ 51,  52,  53,  54,  55,  56,  57,  58,  59,  60],\n",
       "       [ 61,  62,  63,  64,  65,  66,  67,  68,  69,  70],\n",
       "       [ 71,  72,  73,  74,  75,  76,  77,  78,  79,  80],\n",
       "       [ 81,  82,  83,  84,  85,  86,  87,  88,  89,  90],\n",
       "       [ 91,  92,  93,  94,  95,  96,  97,  98,  99, 100]])"
      ]
     },
     "execution_count": 15,
     "metadata": {},
     "output_type": "execute_result"
    }
   ],
   "source": [
    "#reshape() fonksiyonu, oluşturulan diziyi istediğimiz gibi ayarlatır.\n",
    "resp = np.arange(1,101).reshape(10,10)     #10x10'luk dizi şeklinde ayarlatır\n",
    "resp"
   ]
  },
  {
   "cell_type": "code",
   "execution_count": 16,
   "id": "24f6914e-d855-483d-94d7-091cffa95b2f",
   "metadata": {},
   "outputs": [
    {
     "data": {
      "text/plain": [
       "array([200, 231, 264, 299, 336, 375, 416, 459, 504, 551, 600])"
      ]
     },
     "execution_count": 16,
     "metadata": {},
     "output_type": "execute_result"
    }
   ],
   "source": [
    "#np.multiply() fonksiyonu dizi içerisinde çarpma yapar.  Normalde sayidizi4 * sayidizi3 komutu da aynısını yapardı.\n",
    "sayidizi4 = np.arange(20,31)\n",
    "np.multiply(sayidizi4,sayidizi3)"
   ]
  },
  {
   "cell_type": "code",
   "execution_count": 17,
   "id": "0fb660c5-5fbf-4582-9207-22a4c919a5b0",
   "metadata": {},
   "outputs": [
    {
     "data": {
      "text/plain": [
       "array([ 51,  52,  53,  54,  55,  56,  57,  58,  59,  60,  61,  62,  63,\n",
       "        64,  65,  66,  67,  68,  69,  70,  71,  72,  73,  74,  75,  76,\n",
       "        77,  78,  79,  80,  81,  82,  83,  84,  85,  86,  87,  88,  89,\n",
       "        90,  91,  92,  93,  94,  95,  96,  97,  98,  99, 100])"
      ]
     },
     "execution_count": 17,
     "metadata": {},
     "output_type": "execute_result"
    }
   ],
   "source": [
    "filtrelenmis = resp[resp>50]\n",
    "filtrelenmis"
   ]
  },
  {
   "cell_type": "code",
   "execution_count": 19,
   "id": "b1a19a05-9bb9-4faf-a7fd-84688dc3632a",
   "metadata": {},
   "outputs": [
    {
     "data": {
      "text/plain": [
       "array([[1, 0, 0, 0, 0, 0, 0, 0],\n",
       "       [0, 1, 0, 0, 0, 0, 0, 0],\n",
       "       [0, 0, 1, 0, 0, 0, 0, 0],\n",
       "       [0, 0, 0, 1, 0, 0, 0, 0],\n",
       "       [0, 0, 0, 0, 1, 0, 0, 0],\n",
       "       [0, 0, 0, 0, 0, 1, 0, 0],\n",
       "       [0, 0, 0, 0, 0, 0, 1, 0],\n",
       "       [0, 0, 0, 0, 0, 0, 0, 1]])"
      ]
     },
     "execution_count": 19,
     "metadata": {},
     "output_type": "execute_result"
    }
   ],
   "source": [
    "#Birim matris (identity)\n",
    "I = np.eye(8).astype(int)\n",
    "I"
   ]
  },
  {
   "cell_type": "code",
   "execution_count": 21,
   "id": "b00e1834-c3eb-4933-8d6b-b730919be612",
   "metadata": {},
   "outputs": [
    {
     "data": {
      "text/plain": [
       "array([[ 1,  0,  0,  0,  0,  0,  0,  0,  0,  0],\n",
       "       [ 0,  2,  0,  0,  0,  0,  0,  0,  0,  0],\n",
       "       [ 0,  0,  3,  0,  0,  0,  0,  0,  0,  0],\n",
       "       [ 0,  0,  0,  4,  0,  0,  0,  0,  0,  0],\n",
       "       [ 0,  0,  0,  0,  5,  0,  0,  0,  0,  0],\n",
       "       [ 0,  0,  0,  0,  0,  6,  0,  0,  0,  0],\n",
       "       [ 0,  0,  0,  0,  0,  0,  7,  0,  0,  0],\n",
       "       [ 0,  0,  0,  0,  0,  0,  0,  8,  0,  0],\n",
       "       [ 0,  0,  0,  0,  0,  0,  0,  0,  9,  0],\n",
       "       [ 0,  0,  0,  0,  0,  0,  0,  0,  0, 10]])"
      ]
     },
     "execution_count": 21,
     "metadata": {},
     "output_type": "execute_result"
    }
   ],
   "source": [
    "#Diagonal matris\n",
    "D = np.diag(np.arange(1,11))\n",
    "D"
   ]
  },
  {
   "cell_type": "code",
   "execution_count": 22,
   "id": "52cebb5a-6c59-4e97-a487-c19f30642de8",
   "metadata": {},
   "outputs": [
    {
     "data": {
      "text/plain": [
       "array([[3, 0, 0, 0],\n",
       "       [0, 5, 0, 0],\n",
       "       [0, 0, 7, 0],\n",
       "       [0, 0, 0, 9]])"
      ]
     },
     "execution_count": 22,
     "metadata": {},
     "output_type": "execute_result"
    }
   ],
   "source": [
    "D1 = np.diag([3,5,7,9])\n",
    "D1"
   ]
  },
  {
   "cell_type": "code",
   "execution_count": 34,
   "id": "b97e0ec1-09e2-4680-8d79-cf7e7733c872",
   "metadata": {},
   "outputs": [
    {
     "data": {
      "text/plain": [
       "array([[ 0,  0,  1,  0,  1],\n",
       "       [ 0,  0,  0,  0,  0],\n",
       "       [ 0,  1,  0,  0,  0],\n",
       "       [ 0,  0,  0,  0,  1],\n",
       "       [ 0, -1,  0,  0,  0]])"
      ]
     },
     "execution_count": 34,
     "metadata": {},
     "output_type": "execute_result"
    }
   ],
   "source": [
    "M1 = np.random.randn(5,5).astype(int)\n",
    "M1"
   ]
  },
  {
   "cell_type": "code",
   "execution_count": 35,
   "id": "6f54aa9d-7caf-4d3c-ab83-4d96c0f39abe",
   "metadata": {},
   "outputs": [
    {
     "data": {
      "text/plain": [
       "array([[0, 0, 1, 0, 1],\n",
       "       [0, 0, 0, 0, 0],\n",
       "       [0, 0, 0, 0, 0],\n",
       "       [0, 0, 0, 0, 1],\n",
       "       [0, 0, 0, 0, 0]])"
      ]
     },
     "execution_count": 35,
     "metadata": {},
     "output_type": "execute_result"
    }
   ],
   "source": [
    "#Üst üçgen martisi\n",
    "UstUcgen = np.triu(M1)\n",
    "UstUcgen"
   ]
  },
  {
   "cell_type": "code",
   "execution_count": 36,
   "id": "707590d1-ebef-4c71-9888-4aedb62b5df3",
   "metadata": {},
   "outputs": [
    {
     "data": {
      "text/plain": [
       "array([[ 0,  0,  0,  0,  0],\n",
       "       [ 0,  0,  0,  0,  0],\n",
       "       [ 0,  1,  0,  0,  0],\n",
       "       [ 0,  0,  0,  0,  0],\n",
       "       [ 0, -1,  0,  0,  0]])"
      ]
     },
     "execution_count": 36,
     "metadata": {},
     "output_type": "execute_result"
    }
   ],
   "source": [
    "#Alt üçgen martisi\n",
    "AltUcgen = np.tril(M1)\n",
    "AltUcgen"
   ]
  },
  {
   "cell_type": "code",
   "execution_count": 38,
   "id": "73857e4a-678a-4cae-ab2c-d1bd70ec6796",
   "metadata": {},
   "outputs": [
    {
     "data": {
      "text/plain": [
       "array([[37, 17, 23],\n",
       "       [37, 17, 39],\n",
       "       [16, 17, 16]], dtype=int32)"
      ]
     },
     "execution_count": 38,
     "metadata": {},
     "output_type": "execute_result"
    }
   ],
   "source": [
    "M2 = np.random.randint(10,45,9).reshape(3,3)\n",
    "M2"
   ]
  },
  {
   "cell_type": "code",
   "execution_count": 39,
   "id": "87003249-6a40-4016-b1ff-a1428aab2bbf",
   "metadata": {},
   "outputs": [
    {
     "data": {
      "text/plain": [
       "array([[37, 37, 16],\n",
       "       [17, 17, 17],\n",
       "       [23, 39, 16]], dtype=int32)"
      ]
     },
     "execution_count": 39,
     "metadata": {},
     "output_type": "execute_result"
    }
   ],
   "source": [
    "#Transpozunu alma\n",
    "np.transpose(M2)"
   ]
  },
  {
   "cell_type": "code",
   "execution_count": 40,
   "id": "3e063a8d-2a1d-4733-bf02-a30375d17c2d",
   "metadata": {},
   "outputs": [
    {
     "data": {
      "text/plain": [
       "np.float64(-5712.0000000000055)"
      ]
     },
     "execution_count": 40,
     "metadata": {},
     "output_type": "execute_result"
    }
   ],
   "source": [
    "#Determinant\n",
    "np.linalg.det(M2)"
   ]
  },
  {
   "cell_type": "code",
   "execution_count": null,
   "id": "1bd76004-53a3-42c7-8e73-db4845cb3f58",
   "metadata": {},
   "outputs": [],
   "source": []
  }
 ],
 "metadata": {
  "kernelspec": {
   "display_name": "Python 3 (ipykernel)",
   "language": "python",
   "name": "python3"
  },
  "language_info": {
   "codemirror_mode": {
    "name": "ipython",
    "version": 3
   },
   "file_extension": ".py",
   "mimetype": "text/x-python",
   "name": "python",
   "nbconvert_exporter": "python",
   "pygments_lexer": "ipython3",
   "version": "3.13.5"
  }
 },
 "nbformat": 4,
 "nbformat_minor": 5
}
