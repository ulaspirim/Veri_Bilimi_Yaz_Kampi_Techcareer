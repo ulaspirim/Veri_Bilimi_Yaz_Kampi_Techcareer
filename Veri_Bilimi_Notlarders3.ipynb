{
 "cells": [
  {
   "cell_type": "code",
   "execution_count": 14,
   "id": "8f718f39-43f0-4d81-8df8-5fe5ea198384",
   "metadata": {},
   "outputs": [
    {
     "name": "stdout",
     "output_type": "stream",
     "text": [
      "Techcareer - Veri Bilimine Giriş Ders 3\n"
     ]
    }
   ],
   "source": [
    "print(\"Techcareer - Veri Bilimine Giriş Ders 3\")"
   ]
  },
  {
   "cell_type": "code",
   "execution_count": 31,
   "id": "4694874e-fa2d-4bed-a693-1bf884a2ab2a",
   "metadata": {},
   "outputs": [],
   "source": [
    "import numpy as np\n",
    "import time\n",
    "\n",
    "def python_version():\n",
    "  start_time = time.time()\n",
    "  A = list(range(10000000))\n",
    "  B = list(range(10000000))\n",
    "  C = [A[i] + B[i] for i in range(len(A))]\n",
    "  end_time = time.time()\n",
    "  sure = end_time - start_time\n",
    "  print(sure)\n",
    "\n",
    "\n",
    "def numpy_version():\n",
    "  start_time = time.time()\n",
    "  A = np.arange(100000000)\n",
    "  B = np.arange(100000000)\n",
    "  C = A + B\n",
    "  end_time = time.time()\n",
    "  sure = end_time - start_time\n",
    "  print(sure)\n"
   ]
  },
  {
   "cell_type": "code",
   "execution_count": 32,
   "id": "fb42332c-3d28-47af-9e37-e7a7970c1247",
   "metadata": {},
   "outputs": [
    {
     "name": "stdout",
     "output_type": "stream",
     "text": [
      "3.1265761852264404\n"
     ]
    }
   ],
   "source": [
    "python_version()"
   ]
  },
  {
   "cell_type": "code",
   "execution_count": 33,
   "id": "521a5e87-3d41-469d-a6c5-95f458b01bb1",
   "metadata": {},
   "outputs": [
    {
     "name": "stdout",
     "output_type": "stream",
     "text": [
      "1.218519926071167\n"
     ]
    }
   ],
   "source": [
    "numpy_version()"
   ]
  },
  {
   "cell_type": "code",
   "execution_count": null,
   "id": "1144f55a-e807-4e44-8a6e-591fd4eced76",
   "metadata": {},
   "outputs": [],
   "source": []
  }
 ],
 "metadata": {
  "kernelspec": {
   "display_name": "Python 3 (ipykernel)",
   "language": "python",
   "name": "python3"
  },
  "language_info": {
   "codemirror_mode": {
    "name": "ipython",
    "version": 3
   },
   "file_extension": ".py",
   "mimetype": "text/x-python",
   "name": "python",
   "nbconvert_exporter": "python",
   "pygments_lexer": "ipython3",
   "version": "3.13.5"
  }
 },
 "nbformat": 4,
 "nbformat_minor": 5
}
