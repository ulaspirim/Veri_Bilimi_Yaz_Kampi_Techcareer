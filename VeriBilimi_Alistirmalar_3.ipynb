{
 "cells": [
  {
   "cell_type": "code",
   "execution_count": 1,
   "id": "047c345f-45b1-4a80-9540-9c662a264a46",
   "metadata": {},
   "outputs": [],
   "source": [
    "import numpy as np"
   ]
  },
  {
   "cell_type": "code",
   "execution_count": 2,
   "id": "4bcefd4f-b3ad-4ec0-bffd-9c4c269349eb",
   "metadata": {},
   "outputs": [
    {
     "name": "stdout",
     "output_type": "stream",
     "text": [
      "Ortalama sicaklik = 28.857142857142858\n"
     ]
    }
   ],
   "source": [
    "#Elimizde 1 haftalık sıcaklık verisi mevcut.\n",
    "#Bu sıcaklık bilgileri ile ortalama sıcaklığı bulunuz.\n",
    "\n",
    "sicakliklar = [30,31,32,25,20,29,35]\n",
    "sicaklik_np = np.array(sicakliklar)\n",
    "ortalama_sicaklik = np.mean(sicaklik_np)\n",
    "print(f\"Ortalama sicaklik = {ortalama_sicaklik}\")"
   ]
  },
  {
   "cell_type": "code",
   "execution_count": 3,
   "id": "a25cfd44-df3d-488a-b3b1-178b2a19d09e",
   "metadata": {},
   "outputs": [
    {
     "name": "stdout",
     "output_type": "stream",
     "text": [
      "Günlük getiri (%) [  2.           7.84313725  -5.           9.56937799   4.80349345\n",
      " -13.75      ]\n",
      "Ortalama günlük getiri: 0.911001449185707 %\n"
     ]
    }
   ],
   "source": [
    "#Hisse senedi uygulaması\n",
    "#Getiri = ((Bugünkü fiyat - dünkü fiyat) / Dünkü fiyat) * 100\n",
    "\n",
    "GunlukHisseler = [1000,1020,1100,1045,1145,1200,1035]\n",
    "getiriler_farki = np.diff(GunlukHisseler)\n",
    "result = getiriler_farki / GunlukHisseler[:-1] * 100\n",
    "print(f'Günlük getiri (%) {result}')\n",
    "print(f'Ortalama günlük getiri: {np.mean(result)} %')"
   ]
  },
  {
   "cell_type": "code",
   "execution_count": 5,
   "id": "ac51005e-f1ef-4232-80eb-8238507cd3ec",
   "metadata": {},
   "outputs": [
    {
     "name": "stdout",
     "output_type": "stream",
     "text": [
      "10 yıllık nüfus tahmini: [10202013.40026756 10408107.74192388 10618365.4654536  10832870.67674959\n",
      " 11051709.18075648 11274968.51579376 11502737.98857227 11735108.7099181\n",
      " 11972173.6312181  12214027.5816017 ]\n"
     ]
    }
   ],
   "source": [
    "#Başlangıç nüfusu 10 milyon olan ülkenin yıllık büyüme oranı %2 ise 10 yıllık nufüs tahmini\n",
    "# P(t) = P(0) * e^rt\n",
    "baslangic_nufusu = 10000000\n",
    "buyume_orani = 0.02\n",
    "yillar = np.arange(1,11)\n",
    "populasyon = baslangic_nufusu * np.exp(buyume_orani * yillar)\n",
    "print(f'10 yıllık nüfus tahmini: {populasyon}')"
   ]
  },
  {
   "cell_type": "code",
   "execution_count": null,
   "id": "7f4dc50e-770e-49ee-9eb4-b95fe4c6910f",
   "metadata": {},
   "outputs": [],
   "source": []
  }
 ],
 "metadata": {
  "kernelspec": {
   "display_name": "Python 3 (ipykernel)",
   "language": "python",
   "name": "python3"
  },
  "language_info": {
   "codemirror_mode": {
    "name": "ipython",
    "version": 3
   },
   "file_extension": ".py",
   "mimetype": "text/x-python",
   "name": "python",
   "nbconvert_exporter": "python",
   "pygments_lexer": "ipython3",
   "version": "3.13.5"
  }
 },
 "nbformat": 4,
 "nbformat_minor": 5
}
