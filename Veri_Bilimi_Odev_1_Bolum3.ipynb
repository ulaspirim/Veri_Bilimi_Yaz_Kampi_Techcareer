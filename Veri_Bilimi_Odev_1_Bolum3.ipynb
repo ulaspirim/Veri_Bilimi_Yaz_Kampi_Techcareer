{
 "cells": [
  {
   "cell_type": "code",
   "execution_count": 1,
   "id": "8f718f39-43f0-4d81-8df8-5fe5ea198384",
   "metadata": {},
   "outputs": [
    {
     "name": "stdout",
     "output_type": "stream",
     "text": [
      "Techcareer market uygulamamıza hos geldiniz\n"
     ]
    }
   ],
   "source": [
    "print(\"Techcareer market uygulamamıza hos geldiniz\")"
   ]
  },
  {
   "cell_type": "code",
   "execution_count": 2,
   "id": "4694874e-fa2d-4bed-a693-1bf884a2ab2a",
   "metadata": {},
   "outputs": [
    {
     "name": "stdin",
     "output_type": "stream",
     "text": [
      "Ilk urunun fiyatını giriniz:  10\n",
      "Ikinci urunun fiyatını giriniz:  60\n",
      "Ucuncu urunun fiyatını giriniz:  140\n"
     ]
    }
   ],
   "source": [
    "urun1 = int(input(\"Ilk urunun fiyatını giriniz: \"))\n",
    "urun2 = int(input(\"Ikinci urunun fiyatını giriniz: \"))\n",
    "urun3 = int(input(\"Ucuncu urunun fiyatını giriniz: \"))\n",
    "toplam = int (urun1+urun2+urun3)"
   ]
  },
  {
   "cell_type": "code",
   "execution_count": 5,
   "id": "ff272ac9-d0e2-428e-a034-af5ee2c5a8b3",
   "metadata": {},
   "outputs": [
    {
     "name": "stdout",
     "output_type": "stream",
     "text": [
      "Urunlerin toplami=  189.0\n"
     ]
    }
   ],
   "source": [
    "if toplam > 200:\n",
    "    toplam *= 0.9\n",
    "print(\"Urunlerin toplami= \",toplam)"
   ]
  },
  {
   "cell_type": "code",
   "execution_count": 12,
   "id": "ddc355d9-159a-4461-8f76-7df11a2a9abd",
   "metadata": {},
   "outputs": [
    {
     "ename": "SyntaxError",
     "evalue": "expected ':' (621127607.py, line 6)",
     "output_type": "error",
     "traceback": [
      "\u001b[1;36m  Cell \u001b[1;32mIn[12], line 6\u001b[1;36m\u001b[0m\n\u001b[1;33m    else if 13<= yas <=17 :\u001b[0m\n\u001b[1;37m         ^\u001b[0m\n\u001b[1;31mSyntaxError\u001b[0m\u001b[1;31m:\u001b[0m expected ':'\n"
     ]
    }
   ],
   "source": [
    "dogum_yili = int(input(\"Lutfen dogum yilinizi giriniz.\"))\n",
    "yas = 2025-dogum_yili\n",
    "\n",
    "if 0<=yas<=12 :\n",
    "    print(\"Cocuksunuz.\")\n",
    "else if 13<= yas <=17 :\n",
    "    print(\"Ergensiniz.\")\n",
    "else if 18<= yas <=100 :\n",
    "    print(\"Yetiskiniz.\")"
   ]
  },
  {
   "cell_type": "code",
   "execution_count": null,
   "id": "d0829aed-72ef-40ae-b405-493ce13028d3",
   "metadata": {},
   "outputs": [],
   "source": []
  }
 ],
 "metadata": {
  "kernelspec": {
   "display_name": "Python 3 (ipykernel)",
   "language": "python",
   "name": "python3"
  },
  "language_info": {
   "codemirror_mode": {
    "name": "ipython",
    "version": 3
   },
   "file_extension": ".py",
   "mimetype": "text/x-python",
   "name": "python",
   "nbconvert_exporter": "python",
   "pygments_lexer": "ipython3",
   "version": "3.13.5"
  }
 },
 "nbformat": 4,
 "nbformat_minor": 5
}
