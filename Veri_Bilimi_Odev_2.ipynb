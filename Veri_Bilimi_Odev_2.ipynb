{
 "cells": [
  {
   "cell_type": "code",
   "execution_count": 1,
   "id": "8f718f39-43f0-4d81-8df8-5fe5ea198384",
   "metadata": {},
   "outputs": [
    {
     "name": "stdout",
     "output_type": "stream",
     "text": [
      "Techcareer - Veri Bilimine Giris Odev 2\n"
     ]
    }
   ],
   "source": [
    "print(\"Techcareer - Veri Bilimine Giris Odev 2\")"
   ]
  },
  {
   "cell_type": "code",
   "execution_count": 10,
   "id": "4694874e-fa2d-4bed-a693-1bf884a2ab2a",
   "metadata": {},
   "outputs": [
    {
     "name": "stdin",
     "output_type": "stream",
     "text": [
      "Lutfen bir sayi giriniz=  0\n"
     ]
    },
    {
     "name": "stdout",
     "output_type": "stream",
     "text": [
      "Girdiginiz sayi sifirdir ve sifir bir cift sayidir\n"
     ]
    }
   ],
   "source": [
    "#Soru 1\n",
    "sayi = int(input(\"Lutfen bir sayi giriniz= \"))\n",
    "pozitifMi = True\n",
    "sifirMi = False\n",
    "ciftMi = False\n",
    "if sayi < 0:\n",
    "    pozitifMi = False\n",
    "elif sayi == 0:\n",
    "    sifirMi = True\n",
    "    pozitifMi = False\n",
    "\n",
    "if sayi %2 == 0:\n",
    "    ciftMi = True\n",
    "\n",
    "if sifirMi == True:\n",
    "    print (\"Girdiginiz sayi sifirdir ve sifir bir cift sayidir\")\n",
    "elif pozitifMi == True and ciftMi == True:\n",
    "    print (\"Girdiginiz sayi pozitif ve cift sayidir\")\n",
    "elif pozitifMi == False and ciftMi == True:\n",
    "    print (\"Girdiginiz sayi negatif ve cift sayidir\")\n",
    "elif pozitifMi == True and ciftMi == False:\n",
    "    print (\"Girdiginiz sayi pozitif ve tek sayidir\")\n",
    "elif pozitifMi == False and ciftMi == False:\n",
    "    print (\"Girdiginiz sayi negatif ve tek sayidir\")"
   ]
  },
  {
   "cell_type": "code",
   "execution_count": 54,
   "id": "2c0ec6a2-830c-485c-8aaf-38fb8844edc4",
   "metadata": {},
   "outputs": [
    {
     "name": "stdin",
     "output_type": "stream",
     "text": [
      "Lutfen bir kelime giriniz=  hulusi\n"
     ]
    },
    {
     "name": "stdout",
     "output_type": "stream",
     "text": [
      "' h ' : 1\n",
      "' u ' : 2\n",
      "' l ' : 1\n",
      "' u ' : 2\n",
      "' s ' : 1\n",
      "' i ' : 1\n"
     ]
    }
   ],
   "source": [
    "#Soru 2\n",
    "#Kullanıcıdan bir kelime alın.\n",
    "#• Hangi harften kaç tane geçtiğini bulun.\n",
    "#• Sonucu dictionary olarak gösterin.\n",
    "#Örnek: \"data\" → {'d': 1, 'a': 2, 't': 1}\n",
    "\n",
    "metinn = input(\"Lutfen bir kelime giriniz= \")\n",
    "listee = []\n",
    "tekrarlama = []\n",
    "for x in metinn:\n",
    "    listee.append(x)\n",
    "\n",
    "for index,value in enumerate(listee):\n",
    "    x = listee.count(value)\n",
    "    tekrarlama.append(x) \n",
    "    print(\"'\",listee[index],\"' :\", tekrarlama[index])\n"
   ]
  },
  {
   "cell_type": "code",
   "execution_count": null,
   "id": "7717e201-7d2b-4cb5-af19-9ac68c43ab41",
   "metadata": {},
   "outputs": [],
   "source": [
    "#Soru 3\n",
    "i=1\n",
    "while i!=0\n",
    "    sifre = input(\"Lutfen bir sifre giriniz= \")\n",
    "\n",
    "    for index, value in enumerate(sifre):\n",
    "        \n",
    "if sifre"
   ]
  },
  {
   "cell_type": "code",
   "execution_count": 16,
   "id": "9e4b85fd-d300-4b52-aecd-12f845884dbd",
   "metadata": {},
   "outputs": [
    {
     "name": "stdout",
     "output_type": "stream",
     "text": [
      "15.0\n",
      "Liste2'ye 25 eklendi\n",
      "Liste2'ye 30 eklendi\n",
      "Liste2'ye 18 eklendi\n"
     ]
    }
   ],
   "source": [
    "#Soru 4\n",
    "liste =[12, 4, 9, 25, 30, 7, 18]\n",
    "toplam = 0\n",
    "sayi = 0\n",
    "for i in liste:\n",
    "    toplam += i\n",
    "    sayi+=1\n",
    "ortalama = toplam / sayi\n",
    "print(ortalama)\n",
    "\n",
    "for a in liste:\n",
    "    if a > ortalama:\n",
    "        liste2 =[]\n",
    "        liste2.append(a)\n",
    "        print(\"Liste2'ye\", a, \"eklendi\")"
   ]
  },
  {
   "cell_type": "code",
   "execution_count": 26,
   "id": "80ebc613-6bf6-4895-81c4-9435695ed8cb",
   "metadata": {},
   "outputs": [
    {
     "name": "stdout",
     "output_type": "stream",
     "text": [
      "*\n",
      "**\n",
      "***\n",
      "****\n",
      "*****\n"
     ]
    }
   ],
   "source": [
    "#Soru 5\n",
    "yildiz = '*'\n",
    "list = range(5)\n",
    "for n in range(5):\n",
    "    for i in range(n+1):\n",
    "        print(yildiz,end=\"\")\n",
    "    print(\"\")"
   ]
  },
  {
   "cell_type": "code",
   "execution_count": 30,
   "id": "2f5fb365-7b61-4df6-baed-d2ddd24cba33",
   "metadata": {},
   "outputs": [
    {
     "name": "stdin",
     "output_type": "stream",
     "text": [
      "Lutfen bir sayi giriniz=  0\n"
     ]
    },
    {
     "name": "stdout",
     "output_type": "stream",
     "text": [
      "Girdiginiz tum sayilarin toplami=  0\n",
      "Girdiginiz sayilarin ortalamasi=  0\n"
     ]
    }
   ],
   "source": [
    "#Soru 6\n",
    "toplam6 = 0\n",
    "ortalama6 = 0\n",
    "p = 1\n",
    "while p != 0 :\n",
    "    sayi = int(input(\"Lutfen bir sayi giriniz= \"))\n",
    "    if sayi == 0:\n",
    "        break\n",
    "    p += 1\n",
    "    toplam6 += sayi\n",
    "    ortalama6 = toplam6 / p\n",
    "print(\"Girdiginiz tum sayilarin toplami= \", toplam6)\n",
    "print(\"Girdiginiz sayilarin ortalamasi= \", ortalama6)"
   ]
  },
  {
   "cell_type": "code",
   "execution_count": 38,
   "id": "18613b36-2d76-4e3b-ae9b-e3697a1c59c4",
   "metadata": {},
   "outputs": [
    {
     "name": "stdout",
     "output_type": "stream",
     "text": [
      "[225, 900, 2025, 3600, 5625, 8100]\n"
     ]
    }
   ],
   "source": [
    "#Soru 8\n",
    "#Hem 3’e hem 5’e bölünebilenlerin karelerini içeren bir liste oluşturun.\n",
    "liste8 = []\n",
    "for y1 in range(1,100):\n",
    "    if y1%15 ==0:\n",
    "        y1 *= y1\n",
    "        liste8.append(y1)\n",
    "\n",
    "print(liste8)"
   ]
  },
  {
   "cell_type": "code",
   "execution_count": null,
   "id": "5835a5af-2ebc-4d46-b5a9-5c68797448bd",
   "metadata": {},
   "outputs": [],
   "source": []
  }
 ],
 "metadata": {
  "kernelspec": {
   "display_name": "Python 3 (ipykernel)",
   "language": "python",
   "name": "python3"
  },
  "language_info": {
   "codemirror_mode": {
    "name": "ipython",
    "version": 3
   },
   "file_extension": ".py",
   "mimetype": "text/x-python",
   "name": "python",
   "nbconvert_exporter": "python",
   "pygments_lexer": "ipython3",
   "version": "3.13.5"
  }
 },
 "nbformat": 4,
 "nbformat_minor": 5
}
