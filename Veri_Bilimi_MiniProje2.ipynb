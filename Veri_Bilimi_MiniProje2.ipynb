{
 "cells": [
  {
   "cell_type": "code",
   "execution_count": 1,
   "id": "8f718f39-43f0-4d81-8df8-5fe5ea198384",
   "metadata": {},
   "outputs": [
    {
     "name": "stdout",
     "output_type": "stream",
     "text": [
      "Techcareer - Veri Bilimine Giris Proje 2\n"
     ]
    }
   ],
   "source": [
    "print(\"Techcareer - Veri Bilimine Giris Proje 2\")"
   ]
  },
  {
   "cell_type": "code",
   "execution_count": null,
   "id": "5835a5af-2ebc-4d46-b5a9-5c68797448bd",
   "metadata": {},
   "outputs": [],
   "source": [
    "'''Kullanıcıdan birkaç film yorumu alın (örneğin 5–6 yorum).\n",
    "- Yorumları bir listeye atın.\n",
    "- Her yorumun uzunluğunu (karakter sayısı) bulun.\n",
    "- Kaç yorumda \"iyi\" kelimesi geçtiğini sayın.\n",
    "- En uzun yorumu ve en kısa yorumu ekrana yazdırın.\n",
    "- Tüm yorumların ortalama uzunluğunu hesaplayın."
   ]
  },
  {
   "cell_type": "code",
   "execution_count": 24,
   "id": "928695be-da56-4046-9f1f-4ecd0c30ea49",
   "metadata": {},
   "outputs": [
    {
     "name": "stdin",
     "output_type": "stream",
     "text": [
      "Lutfen yorumunuzu yaziniz selmlar\n",
      "Lutfen yorumunuzu yaziniz naber ya\n",
      "Lutfen yorumunuzu yaziniz iyi knk senden naber\n",
      "Lutfen yorumunuzu yaziniz iyi ben de \n",
      "Lutfen yorumunuzu yaziniz optum\n",
      "Lutfen yorumunuzu yaziniz cikis\n"
     ]
    },
    {
     "name": "stdout",
     "output_type": "stream",
     "text": [
      "Girdi yaptiginiz yorumlar sirasiyla=  ['selmlar', 'naber ya', 'iyi knk senden naber', 'iyi ben de ', 'optum']\n",
      "['selmlar', 'naber ya', 'iyi knk senden naber', 'iyi ben de ', 'optum']\n",
      "Her yorumun karakter uzunlugu sirasiyla=  [7, 8, 20, 11, 5]\n",
      "Toplam 'iyi' kelimesi geçen yorum sayisi=  2\n",
      "Tum yorumlarin toplam uzunlugu=  51\n"
     ]
    }
   ],
   "source": [
    "x=1\n",
    "yorumlar = []\n",
    "yorumlar2 = []\n",
    "yorumlar_uzunluk =[]\n",
    "yorum_sayisi = 0\n",
    "a = 0\n",
    "iyi = 0\n",
    "c = 0\n",
    "while x!=0:\n",
    "    metin = input(\"Lutfen yorumunuzu yaziniz\")\n",
    "    if metin == 'cikis':\n",
    "        break\n",
    "    yorumlar.append(metin)\n",
    "    yorumlar2.append(metin)\n",
    "    yorum_sayisi += 1\n",
    "\n",
    "for a in yorumlar:\n",
    "    b = len(a)\n",
    "    yorumlar_uzunluk.append(b)\n",
    "\n",
    "for a in yorumlar:\n",
    "    if \"iyi\" in a:\n",
    "        iyi += 1\n",
    "\n",
    "for b in yorumlar_uzunluk:\n",
    "    c += b\n",
    "\n",
    "print(\"Girdi yaptiginiz yorumlar sirasiyla= \",yorumlar)\n",
    "print(\"Her yorumun karakter uzunlugu sirasiyla= \",yorumlar_uzunluk)\n",
    "print(\"Toplam 'iyi' kelimesi geçen yorum sayisi= \", iyi)\n",
    "print(\"Tum yorumlarin toplam uzunlugu= \", c)"
   ]
  },
  {
   "cell_type": "code",
   "execution_count": null,
   "id": "7a266f48-3188-4740-8097-d250f7fa626b",
   "metadata": {},
   "outputs": [],
   "source": []
  }
 ],
 "metadata": {
  "kernelspec": {
   "display_name": "Python 3 (ipykernel)",
   "language": "python",
   "name": "python3"
  },
  "language_info": {
   "codemirror_mode": {
    "name": "ipython",
    "version": 3
   },
   "file_extension": ".py",
   "mimetype": "text/x-python",
   "name": "python",
   "nbconvert_exporter": "python",
   "pygments_lexer": "ipython3",
   "version": "3.13.5"
  }
 },
 "nbformat": 4,
 "nbformat_minor": 5
}
