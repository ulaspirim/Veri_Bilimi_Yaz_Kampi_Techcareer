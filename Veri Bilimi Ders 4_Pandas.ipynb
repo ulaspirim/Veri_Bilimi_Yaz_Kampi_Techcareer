{
 "cells": [
  {
   "cell_type": "code",
   "execution_count": 2,
   "id": "4fc28d67-8c5a-4ed9-9346-9b257f906525",
   "metadata": {},
   "outputs": [],
   "source": [
    "import pandas as pd\n",
    "import numpy as np"
   ]
  },
  {
   "cell_type": "code",
   "execution_count": 2,
   "id": "2ca85637-9930-49ae-a7cf-38863ab28c70",
   "metadata": {},
   "outputs": [],
   "source": [
    "cities = [\"Adana\",\"Yalova\",\"Isparta\",\"Bursa\",\"Rize\"]"
   ]
  },
  {
   "cell_type": "code",
   "execution_count": 3,
   "id": "af3a267c-da31-4945-903d-3d8120bbb5f1",
   "metadata": {},
   "outputs": [
    {
     "data": {
      "text/html": [
       "<div>\n",
       "<style scoped>\n",
       "    .dataframe tbody tr th:only-of-type {\n",
       "        vertical-align: middle;\n",
       "    }\n",
       "\n",
       "    .dataframe tbody tr th {\n",
       "        vertical-align: top;\n",
       "    }\n",
       "\n",
       "    .dataframe thead th {\n",
       "        text-align: right;\n",
       "    }\n",
       "</style>\n",
       "<table border=\"1\" class=\"dataframe\">\n",
       "  <thead>\n",
       "    <tr style=\"text-align: right;\">\n",
       "      <th></th>\n",
       "      <th>0</th>\n",
       "    </tr>\n",
       "  </thead>\n",
       "  <tbody>\n",
       "    <tr>\n",
       "      <th>0</th>\n",
       "      <td>Adana</td>\n",
       "    </tr>\n",
       "    <tr>\n",
       "      <th>1</th>\n",
       "      <td>Yalova</td>\n",
       "    </tr>\n",
       "    <tr>\n",
       "      <th>2</th>\n",
       "      <td>Isparta</td>\n",
       "    </tr>\n",
       "    <tr>\n",
       "      <th>3</th>\n",
       "      <td>Bursa</td>\n",
       "    </tr>\n",
       "    <tr>\n",
       "      <th>4</th>\n",
       "      <td>Rize</td>\n",
       "    </tr>\n",
       "  </tbody>\n",
       "</table>\n",
       "</div>"
      ],
      "text/plain": [
       "         0\n",
       "0    Adana\n",
       "1   Yalova\n",
       "2  Isparta\n",
       "3    Bursa\n",
       "4     Rize"
      ]
     },
     "execution_count": 3,
     "metadata": {},
     "output_type": "execute_result"
    }
   ],
   "source": [
    "dataframe1 = pd.DataFrame(cities)\n",
    "dataframe1"
   ]
  },
  {
   "cell_type": "code",
   "execution_count": 5,
   "id": "15db3478-9e05-47ee-9185-b085773867e1",
   "metadata": {},
   "outputs": [
    {
     "data": {
      "text/html": [
       "<div>\n",
       "<style scoped>\n",
       "    .dataframe tbody tr th:only-of-type {\n",
       "        vertical-align: middle;\n",
       "    }\n",
       "\n",
       "    .dataframe tbody tr th {\n",
       "        vertical-align: top;\n",
       "    }\n",
       "\n",
       "    .dataframe thead th {\n",
       "        text-align: right;\n",
       "    }\n",
       "</style>\n",
       "<table border=\"1\" class=\"dataframe\">\n",
       "  <thead>\n",
       "    <tr style=\"text-align: right;\">\n",
       "      <th></th>\n",
       "      <th>0</th>\n",
       "      <th>1</th>\n",
       "    </tr>\n",
       "  </thead>\n",
       "  <tbody>\n",
       "    <tr>\n",
       "      <th>0</th>\n",
       "      <td>Adana</td>\n",
       "      <td>01</td>\n",
       "    </tr>\n",
       "    <tr>\n",
       "      <th>1</th>\n",
       "      <td>Yalova</td>\n",
       "      <td>77</td>\n",
       "    </tr>\n",
       "    <tr>\n",
       "      <th>2</th>\n",
       "      <td>Isparta</td>\n",
       "      <td>32</td>\n",
       "    </tr>\n",
       "    <tr>\n",
       "      <th>3</th>\n",
       "      <td>Bursa</td>\n",
       "      <td>16</td>\n",
       "    </tr>\n",
       "    <tr>\n",
       "      <th>4</th>\n",
       "      <td>Rize</td>\n",
       "      <td>53</td>\n",
       "    </tr>\n",
       "  </tbody>\n",
       "</table>\n",
       "</div>"
      ],
      "text/plain": [
       "         0   1\n",
       "0    Adana  01\n",
       "1   Yalova  77\n",
       "2  Isparta  32\n",
       "3    Bursa  16\n",
       "4     Rize  53"
      ]
     },
     "execution_count": 5,
     "metadata": {},
     "output_type": "execute_result"
    }
   ],
   "source": [
    "dataframe1[1] = [\"01\",\"77\",\"32\",\"16\",\"53\"]\n",
    "dataframe1"
   ]
  },
  {
   "cell_type": "code",
   "execution_count": 6,
   "id": "2680436a-f9e2-4475-bd49-4c42de8ce662",
   "metadata": {},
   "outputs": [
    {
     "data": {
      "text/html": [
       "<div>\n",
       "<style scoped>\n",
       "    .dataframe tbody tr th:only-of-type {\n",
       "        vertical-align: middle;\n",
       "    }\n",
       "\n",
       "    .dataframe tbody tr th {\n",
       "        vertical-align: top;\n",
       "    }\n",
       "\n",
       "    .dataframe thead th {\n",
       "        text-align: right;\n",
       "    }\n",
       "</style>\n",
       "<table border=\"1\" class=\"dataframe\">\n",
       "  <thead>\n",
       "    <tr style=\"text-align: right;\">\n",
       "      <th></th>\n",
       "      <th>Sehir adi</th>\n",
       "      <th>Plaka</th>\n",
       "    </tr>\n",
       "  </thead>\n",
       "  <tbody>\n",
       "    <tr>\n",
       "      <th>0</th>\n",
       "      <td>Adana</td>\n",
       "      <td>01</td>\n",
       "    </tr>\n",
       "    <tr>\n",
       "      <th>1</th>\n",
       "      <td>Yalova</td>\n",
       "      <td>77</td>\n",
       "    </tr>\n",
       "    <tr>\n",
       "      <th>2</th>\n",
       "      <td>Isparta</td>\n",
       "      <td>32</td>\n",
       "    </tr>\n",
       "    <tr>\n",
       "      <th>3</th>\n",
       "      <td>Bursa</td>\n",
       "      <td>16</td>\n",
       "    </tr>\n",
       "    <tr>\n",
       "      <th>4</th>\n",
       "      <td>Rize</td>\n",
       "      <td>53</td>\n",
       "    </tr>\n",
       "  </tbody>\n",
       "</table>\n",
       "</div>"
      ],
      "text/plain": [
       "  Sehir adi Plaka\n",
       "0     Adana    01\n",
       "1    Yalova    77\n",
       "2   Isparta    32\n",
       "3     Bursa    16\n",
       "4      Rize    53"
      ]
     },
     "execution_count": 6,
     "metadata": {},
     "output_type": "execute_result"
    }
   ],
   "source": [
    "dataframe1.columns = [\"Sehir adi\",\"Plaka\"]\n",
    "dataframe1"
   ]
  },
  {
   "cell_type": "code",
   "execution_count": 7,
   "id": "81c53761-5c7b-4f98-a009-245fbc8ff00a",
   "metadata": {},
   "outputs": [
    {
     "data": {
      "text/html": [
       "<div>\n",
       "<style scoped>\n",
       "    .dataframe tbody tr th:only-of-type {\n",
       "        vertical-align: middle;\n",
       "    }\n",
       "\n",
       "    .dataframe tbody tr th {\n",
       "        vertical-align: top;\n",
       "    }\n",
       "\n",
       "    .dataframe thead th {\n",
       "        text-align: right;\n",
       "    }\n",
       "</style>\n",
       "<table border=\"1\" class=\"dataframe\">\n",
       "  <thead>\n",
       "    <tr style=\"text-align: right;\">\n",
       "      <th></th>\n",
       "      <th>Sehir</th>\n",
       "      <th>Plaka</th>\n",
       "    </tr>\n",
       "  </thead>\n",
       "  <tbody>\n",
       "    <tr>\n",
       "      <th>0</th>\n",
       "      <td>Adana</td>\n",
       "      <td>01</td>\n",
       "    </tr>\n",
       "    <tr>\n",
       "      <th>1</th>\n",
       "      <td>Yalova</td>\n",
       "      <td>77</td>\n",
       "    </tr>\n",
       "    <tr>\n",
       "      <th>2</th>\n",
       "      <td>Isparta</td>\n",
       "      <td>32</td>\n",
       "    </tr>\n",
       "    <tr>\n",
       "      <th>3</th>\n",
       "      <td>Bursa</td>\n",
       "      <td>16</td>\n",
       "    </tr>\n",
       "    <tr>\n",
       "      <th>4</th>\n",
       "      <td>Rize</td>\n",
       "      <td>53</td>\n",
       "    </tr>\n",
       "  </tbody>\n",
       "</table>\n",
       "</div>"
      ],
      "text/plain": [
       "     Sehir Plaka\n",
       "0    Adana    01\n",
       "1   Yalova    77\n",
       "2  Isparta    32\n",
       "3    Bursa    16\n",
       "4     Rize    53"
      ]
     },
     "execution_count": 7,
     "metadata": {},
     "output_type": "execute_result"
    }
   ],
   "source": [
    "veri1 = {\n",
    "    \"Sehir\" : [\"Adana\",\"Yalova\",\"Isparta\",\"Bursa\",\"Rize\"],\n",
    "    \"Plaka\" : [\"01\",\"77\",\"32\",\"16\",\"53\"]\n",
    "}\n",
    "dataframe2 = pd.DataFrame(veri1)\n",
    "dataframe2"
   ]
  },
  {
   "cell_type": "code",
   "execution_count": null,
   "id": "3c2b7329-ca88-40d0-b57e-e070c15aa25a",
   "metadata": {},
   "outputs": [],
   "source": []
  },
  {
   "cell_type": "code",
   "execution_count": null,
   "id": "ac590cc8-d23d-45c1-beb2-1bbdbcb71bc8",
   "metadata": {},
   "outputs": [],
   "source": []
  },
  {
   "cell_type": "code",
   "execution_count": 8,
   "id": "003761f8-c021-4fa1-bb4e-f91e8102dd7c",
   "metadata": {},
   "outputs": [
    {
     "data": {
      "text/plain": [
       "DatetimeIndex(['2025-09-06', '2025-09-07', '2025-09-08', '2025-09-09',\n",
       "               '2025-09-10', '2025-09-11', '2025-09-12', '2025-09-13',\n",
       "               '2025-09-14', '2025-09-15', '2025-09-16', '2025-09-17',\n",
       "               '2025-09-18', '2025-09-19', '2025-09-20', '2025-09-21',\n",
       "               '2025-09-22'],\n",
       "              dtype='datetime64[ns]', freq='D')"
      ]
     },
     "execution_count": 8,
     "metadata": {},
     "output_type": "execute_result"
    }
   ],
   "source": [
    "#Tarih İşlemleri\n",
    "gunler1 = pd.date_range(start= '2025-09-06', end= '2025-09-22')\n",
    "gunler1"
   ]
  },
  {
   "cell_type": "code",
   "execution_count": 13,
   "id": "d073b542-bcbc-4257-9841-78c5cf7654f7",
   "metadata": {},
   "outputs": [
    {
     "data": {
      "text/plain": [
       "DatetimeIndex(['2025-09-06', '2025-09-07', '2025-09-08', '2025-09-09',\n",
       "               '2025-09-10', '2025-09-11', '2025-09-12', '2025-09-13',\n",
       "               '2025-09-14', '2025-09-15', '2025-09-16', '2025-09-17',\n",
       "               '2025-09-18', '2025-09-19', '2025-09-20', '2025-09-21',\n",
       "               '2025-09-22'],\n",
       "              dtype='datetime64[ns]', freq='D')"
      ]
     },
     "execution_count": 13,
     "metadata": {},
     "output_type": "execute_result"
    }
   ],
   "source": [
    "gunler1 = pd.date_range(start= '2025-09-06', periods = 17)\n",
    "gunler1"
   ]
  },
  {
   "cell_type": "code",
   "execution_count": 16,
   "id": "81d2f36e-c4d4-454e-a478-2d5f7c35db9d",
   "metadata": {},
   "outputs": [
    {
     "data": {
      "text/plain": [
       "DatetimeIndex(['2025-09-22 13:11:30.401286', '2025-09-23 13:11:30.401286',\n",
       "               '2025-09-24 13:11:30.401286', '2025-09-25 13:11:30.401286',\n",
       "               '2025-09-26 13:11:30.401286'],\n",
       "              dtype='datetime64[ns]', freq='D')"
      ]
     },
     "execution_count": 16,
     "metadata": {},
     "output_type": "execute_result"
    }
   ],
   "source": [
    "gunler3 = pd.date_range('today', periods = 5)\n",
    "gunler3"
   ]
  },
  {
   "cell_type": "code",
   "execution_count": 3,
   "id": "4371f82e-7d24-47f9-b86c-70c48ecc6db4",
   "metadata": {},
   "outputs": [
    {
     "data": {
      "text/plain": [
       "array([[455, 214, 753, 733, 566],\n",
       "       [255, 401, 286, 672, 728],\n",
       "       [655, 302, 293, 797, 518],\n",
       "       [385, 717, 623, 788, 755],\n",
       "       [225, 751, 303, 529, 272]], dtype=int32)"
      ]
     },
     "execution_count": 3,
     "metadata": {},
     "output_type": "execute_result"
    }
   ],
   "source": [
    "Matris1 = np.random.randint(200,800,25).reshape(5,5)\n",
    "Matris1"
   ]
  },
  {
   "cell_type": "code",
   "execution_count": null,
   "id": "3b3eae91-d24c-4e63-97cc-3a776f1f372b",
   "metadata": {},
   "outputs": [],
   "source": [
    "dataframe3 = pd.DataFrame(M"
   ]
  }
 ],
 "metadata": {
  "kernelspec": {
   "display_name": "Python 3 (ipykernel)",
   "language": "python",
   "name": "python3"
  },
  "language_info": {
   "codemirror_mode": {
    "name": "ipython",
    "version": 3
   },
   "file_extension": ".py",
   "mimetype": "text/x-python",
   "name": "python",
   "nbconvert_exporter": "python",
   "pygments_lexer": "ipython3",
   "version": "3.13.5"
  }
 },
 "nbformat": 4,
 "nbformat_minor": 5
}
