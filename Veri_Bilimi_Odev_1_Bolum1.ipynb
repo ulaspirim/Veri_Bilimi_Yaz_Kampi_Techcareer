{
 "cells": [
  {
   "cell_type": "code",
   "execution_count": 2,
   "id": "b0c38e6c-d87d-499b-adc5-7a178f327cb6",
   "metadata": {},
   "outputs": [
    {
     "data": {
      "text/plain": [
       "'yaş = int(input(\"Yaşınızı girin: \"))\\nboy = float(input(\"Boyunuzu girin: \"))\\n\\nmetin = \"Python\"\\nprint(metin[0])      # ilk karakter → \\'P\\'\\nprint(metin[-1])     # son karakter → \\'n\\'\\nprint(len(metin))    # uzunluk → 6\\nprint(metin[::-1])   # ters çevirme → \\'nohtyP\\'\\n\\nortalama = 55\\nif ortalama > 50:\\n    print(\"Geçti\")\\nelse:\\n    print(\"Kaldı\")\\n'"
      ]
     },
     "execution_count": 2,
     "metadata": {},
     "output_type": "execute_result"
    }
   ],
   "source": [
    "'''yaş = int(input(\"Yaşınızı girin: \"))\n",
    "boy = float(input(\"Boyunuzu girin: \"))\n",
    "\n",
    "metin = \"Python\"\n",
    "print(metin[0])      # ilk karakter → 'P'\n",
    "print(metin[-1])     # son karakter → 'n'\n",
    "print(len(metin))    # uzunluk → 6\n",
    "print(metin[::-1])   # ters çevirme → 'nohtyP'\n",
    "\n",
    "ortalama = 55\n",
    "if ortalama > 50:\n",
    "    print(\"Geçti\")\n",
    "else:\n",
    "    print(\"Kaldı\")\n",
    "\n",
    "\n",
    "print(len(metin))   # 6\n",
    "print(metin[::-1])   # 'nohtyP'\n",
    "metin = \"Python\"\n",
    "print(metin[-1])  # 'n'\n",
    "\n",
    "'''"
   ]
  },
  {
   "cell_type": "code",
   "execution_count": 6,
   "id": "8f718f39-43f0-4d81-8df8-5fe5ea198384",
   "metadata": {},
   "outputs": [
    {
     "name": "stdin",
     "output_type": "stream",
     "text": [
      "Adinizi giriniz:  Ulas\n",
      "Yasinizi giriniz:  24\n",
      "Boyunuzu giriniz: (Orn: 1.87) 1.87\n"
     ]
    },
    {
     "name": "stdout",
     "output_type": "stream",
     "text": [
      "Ulas , 24 yasinda ve 1.87 uzunlugunda\n"
     ]
    }
   ],
   "source": [
    "isim = input(\"Adinizi giriniz: \")\n",
    "yas = int(input(\"Yasinizi giriniz: \"))\n",
    "boy = float(input(\"Boyunuzu giriniz: (Orn: 1.87)\"))\n",
    "print(isim,\",\", yas, \"yasinda ve\", boy, \"uzunlugunda\")"
   ]
  },
  {
   "cell_type": "code",
   "execution_count": 13,
   "id": "4694874e-fa2d-4bed-a693-1bf884a2ab2a",
   "metadata": {},
   "outputs": [
    {
     "name": "stdin",
     "output_type": "stream",
     "text": [
      "Matematik notunuzu giriniz:  87\n",
      "Fizik notunuzu giriniz:  55\n",
      "Kimya notunuzu giriniz:  34\n"
     ]
    },
    {
     "name": "stdout",
     "output_type": "stream",
     "text": [
      "Derslerinizin ortalamasi=  58.666666666666664\n"
     ]
    }
   ],
   "source": [
    "matematik = int(input(\"Matematik notunuzu giriniz: \"))\n",
    "fizik = int(input(\"Fizik notunuzu giriniz: \"))\n",
    "kimya = int(input(\"Kimya notunuzu giriniz: \"))\n",
    "ortalama = float((matematik+fizik+kimya)/3)\n",
    "print(\"Derslerinizin ortalamasi= \",ortalama)"
   ]
  },
  {
   "cell_type": "code",
   "execution_count": 16,
   "id": "ff272ac9-d0e2-428e-a034-af5ee2c5a8b3",
   "metadata": {},
   "outputs": [
    {
     "name": "stdin",
     "output_type": "stream",
     "text": [
      "Kelime oyununda hangi kelimeyi kullanmak istersiniz? deneme\n"
     ]
    },
    {
     "name": "stdout",
     "output_type": "stream",
     "text": [
      "Yazdiginiz metin=  deneme\n",
      "İlk harf=  d Son harf=  e Uzunlugu=  6 Ters hali=  emened\n"
     ]
    }
   ],
   "source": [
    "metin = input(\"Kelime oyununda hangi kelimeyi kullanmak istersiniz?\")\n",
    "print(\"Yazdiginiz metin= \", metin)\n",
    "print(\"İlk harf= \", metin[0], \"Son harf= \", metin[-1], \"Uzunlugu= \", len(metin), \"Ters hali= \", metin[::-1])"
   ]
  },
  {
   "cell_type": "code",
   "execution_count": null,
   "id": "ddc355d9-159a-4461-8f76-7df11a2a9abd",
   "metadata": {},
   "outputs": [],
   "source": []
  }
 ],
 "metadata": {
  "kernelspec": {
   "display_name": "Python 3 (ipykernel)",
   "language": "python",
   "name": "python3"
  },
  "language_info": {
   "codemirror_mode": {
    "name": "ipython",
    "version": 3
   },
   "file_extension": ".py",
   "mimetype": "text/x-python",
   "name": "python",
   "nbconvert_exporter": "python",
   "pygments_lexer": "ipython3",
   "version": "3.13.5"
  }
 },
 "nbformat": 4,
 "nbformat_minor": 5
}
